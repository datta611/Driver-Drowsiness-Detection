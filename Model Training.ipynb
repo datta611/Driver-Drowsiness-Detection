{
 "cells": [
  {
   "cell_type": "code",
   "execution_count": 10,
   "id": "324a8e0d",
   "metadata": {},
   "outputs": [
    {
     "name": "stdout",
     "output_type": "stream",
     "text": [
      "Found 2423 images belonging to 2 classes.\n",
      "Found 2423 images belonging to 2 classes.\n",
      "75 75\n",
      "WARNING:tensorflow:From <ipython-input-10-b689a97467bd>:53: Model.fit_generator (from tensorflow.python.keras.engine.training) is deprecated and will be removed in a future version.\n",
      "Instructions for updating:\n",
      "Please use Model.fit, which supports generators.\n",
      "Epoch 1/15\n",
      "75/75 [==============================] - 51s 678ms/step - loss: 0.5862 - accuracy: 0.6847 - val_loss: 0.4610 - val_accuracy: 0.7996\n",
      "Epoch 2/15\n",
      "75/75 [==============================] - 9s 122ms/step - loss: 0.4515 - accuracy: 0.7959 - val_loss: 0.3991 - val_accuracy: 0.8363\n",
      "Epoch 3/15\n",
      "75/75 [==============================] - 10s 127ms/step - loss: 0.3733 - accuracy: 0.8285 - val_loss: 0.2919 - val_accuracy: 0.8742\n",
      "Epoch 4/15\n",
      "75/75 [==============================] - 9s 125ms/step - loss: 0.3017 - accuracy: 0.8699 - val_loss: 0.2314 - val_accuracy: 0.9025\n",
      "Epoch 5/15\n",
      "75/75 [==============================] - 9s 119ms/step - loss: 0.2582 - accuracy: 0.8954 - val_loss: 0.2112 - val_accuracy: 0.9112\n",
      "Epoch 6/15\n",
      "75/75 [==============================] - 9s 125ms/step - loss: 0.2337 - accuracy: 0.9013 - val_loss: 0.1781 - val_accuracy: 0.9304\n",
      "Epoch 7/15\n",
      "75/75 [==============================] - 8s 105ms/step - loss: 0.2043 - accuracy: 0.9118 - val_loss: 0.1330 - val_accuracy: 0.9596\n",
      "Epoch 8/15\n",
      "75/75 [==============================] - 9s 117ms/step - loss: 0.1698 - accuracy: 0.9322 - val_loss: 0.1025 - val_accuracy: 0.9683\n",
      "Epoch 9/15\n",
      "75/75 [==============================] - 10s 129ms/step - loss: 0.1486 - accuracy: 0.9410 - val_loss: 0.1043 - val_accuracy: 0.9588\n",
      "Epoch 10/15\n",
      "75/75 [==============================] - 9s 120ms/step - loss: 0.1191 - accuracy: 0.9498 - val_loss: 0.0784 - val_accuracy: 0.9663\n",
      "Epoch 11/15\n",
      "75/75 [==============================] - 9s 116ms/step - loss: 0.1005 - accuracy: 0.9594 - val_loss: 0.0963 - val_accuracy: 0.9625\n",
      "Epoch 12/15\n",
      "75/75 [==============================] - 9s 125ms/step - loss: 0.0930 - accuracy: 0.9686 - val_loss: 0.0382 - val_accuracy: 0.9912\n",
      "Epoch 13/15\n",
      "75/75 [==============================] - 10s 131ms/step - loss: 0.0542 - accuracy: 0.9799 - val_loss: 0.0277 - val_accuracy: 0.9950\n",
      "Epoch 14/15\n",
      "75/75 [==============================] - 10s 130ms/step - loss: 0.0708 - accuracy: 0.9766 - val_loss: 0.0246 - val_accuracy: 0.9975\n",
      "Epoch 15/15\n",
      "75/75 [==============================] - 8s 111ms/step - loss: 0.0518 - accuracy: 0.9837 - val_loss: 0.0176 - val_accuracy: 0.9979\n"
     ]
    }
   ],
   "source": [
    "import os\n",
    "from keras.preprocessing import image\n",
    "import matplotlib.pyplot as plt \n",
    "import numpy as np\n",
    "from keras.utils.np_utils import to_categorical\n",
    "import random,shutil\n",
    "from keras.models import Sequential\n",
    "from keras.layers import Dropout,Conv2D,Flatten,Dense, MaxPooling2D, BatchNormalization\n",
    "from keras.models import load_model\n",
    "\n",
    "\n",
    "def generator(dir, gen=image.ImageDataGenerator(rescale=1./255), shuffle=True,batch_size=1,target_size=(24,24),class_mode='categorical' ):\n",
    "\n",
    "    return gen.flow_from_directory(\"C:\\\\Users\\\\Datta Sai\\\\Downloads\\\\ai_j_component\\\\Drowsiness detection\\\\eyes\",batch_size=batch_size,shuffle=shuffle,color_mode='grayscale',class_mode=class_mode,target_size=target_size)\n",
    "\n",
    "BS= 32\n",
    "TS=(24,24)\n",
    "train_batch= generator('data/train',shuffle=True, batch_size=BS,target_size=TS)\n",
    "valid_batch= generator('data/valid',shuffle=True, batch_size=BS,target_size=TS)\n",
    "SPE= len(train_batch.classes)//BS\n",
    "VS = len(valid_batch.classes)//BS\n",
    "print(SPE,VS)\n",
    "\n",
    "\n",
    "# img,labels= next(train_batch)\n",
    "# print(img.shape)\n",
    "\n",
    "model = Sequential([\n",
    "    Conv2D(32, kernel_size=(3, 3), activation='relu', input_shape=(24,24,1)),\n",
    "    MaxPooling2D(pool_size=(1,1)),\n",
    "    Conv2D(32,(3,3),activation='relu'),\n",
    "    MaxPooling2D(pool_size=(1,1)),\n",
    "\n",
    "    Conv2D(64, (3, 3), activation='relu'),\n",
    "    MaxPooling2D(pool_size=(1,1)),\n",
    "\n",
    "\n",
    "    \n",
    "\n",
    "    Dropout(0.25),\n",
    "\n",
    "    Flatten(),\n",
    "\n",
    "    Dense(128, activation='relu'),\n",
    "\n",
    "    Dropout(0.5),\n",
    "\n",
    "    Dense(2, activation='softmax')\n",
    "])\n",
    "\n",
    "model.compile(optimizer='adam',loss='categorical_crossentropy',metrics=['accuracy'])\n",
    "\n",
    "history=model.fit_generator(train_batch, validation_data=valid_batch,epochs=15,steps_per_epoch=SPE ,validation_steps=VS)\n",
    "\n",
    "model.save('models/cnnCat6.h5', overwrite=True)"
   ]
  },
  {
   "cell_type": "code",
   "execution_count": 11,
   "id": "5b3289e0",
   "metadata": {},
   "outputs": [
    {
     "name": "stderr",
     "output_type": "stream",
     "text": [
      "No handles with labels found to put in legend.\n"
     ]
    },
    {
     "data": {
      "image/png": "[encoded data removed]",
      "text/plain": [
       "<Figure size 432x288 with 1 Axes>"
      ]
     },
     "metadata": {
      "needs_background": "light"
     },
     "output_type": "display_data"
    },
    {
     "data": {
      "image/png": "[encoded data removed]",
      "text/plain": [
       "<Figure size 432x288 with 1 Axes>"
      ]
     },
     "metadata": {
      "needs_background": "light"
     },
     "output_type": "display_data"
    }
   ],
   "source": [
    "%matplotlib inline\n",
    "\n",
    "import matplotlib.image  as mpimg\n",
    "import matplotlib.pyplot as plt\n",
    "\n",
    "#-----------------------------------------------------------\n",
    "# Retrieve a list of list results on training and test data\n",
    "# sets for each training epoch\n",
    "#-----------------------------------------------------------\n",
    "acc=history.history['accuracy']\n",
    "val_acc=history.history['val_accuracy']\n",
    "loss=history.history['loss']\n",
    "val_loss=history.history['val_loss']\n",
    "\n",
    "epochs=range(len(acc)) # Get number of epochs\n",
    "\n",
    "#------------------------------------------------\n",
    "# Plot training and validation accuracy per epoch\n",
    "#------------------------------------------------\n",
    "plt.plot(epochs, acc, 'r', \"Training Accuracy\")\n",
    "plt.plot(epochs, val_acc, 'b', \"Validation Accuracy\")\n",
    "plt.title('Training and validation accuracy')\n",
    "plt.figure()\n",
    "#------------------------------------------------\n",
    "# Plot training and validation loss per epoch\n",
    "#------------------------------------------------\n",
    "plt.plot(epochs, loss, 'r', \"Training Loss\")\n",
    "plt.plot(epochs, val_loss, 'b', \"Validation Loss\")\n",
    "plt.title('Training and validation loss')\n",
    "plt.legend()\n",
    "\n",
    "plt.show()"
   ]
  },
  {
   "cell_type": "code",
   "execution_count": null,
   "id": "16c31e7e",
   "metadata": {},
   "outputs": [],
   "source": []
  }
 ],
 "metadata": {
  "kernelspec": {
   "display_name": "Python 3",
   "language": "python",
   "name": "python3"
  },
  "language_info": {
   "codemirror_mode": {
    "name": "ipython",
    "version": 3
   },
   "file_extension": ".py",
   "mimetype": "text/x-python",
   "name": "python",
   "nbconvert_exporter": "python",
   "pygments_lexer": "ipython3",
   "version": "3.8.10"
  }
 },
 "nbformat": 4,
 "nbformat_minor": 5
}
